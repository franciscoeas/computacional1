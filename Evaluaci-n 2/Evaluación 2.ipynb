{
 "cells": [
  {
   "cell_type": "code",
   "execution_count": 1,
   "metadata": {
    "collapsed": true
   },
   "outputs": [],
   "source": [
    "import pandas as pd\n",
    "\n",
    "import numpy as np\n",
    "\n",
    "import matplotlib.pyplot as mplt\n",
    "\n",
    "import pylab as plt\n",
    "\n",
    "from matplotlib import rc\n",
    "\n",
    "from pylab import figure, show, legend, xlabel, ylabel\n"
   ]
  },
  {
   "cell_type": "code",
   "execution_count": 2,
   "metadata": {
    "collapsed": false
   },
   "outputs": [],
   "source": [
    "df=pd.read_csv('/home/franciscoeas/Evaluación 2/datos1.csv')"
   ]
  },
  {
   "cell_type": "code",
   "execution_count": 3,
   "metadata": {
    "collapsed": false
   },
   "outputs": [],
   "source": [
    "df.columns=['Año','Mes','Año-Mes','Manchas','B','C','D']\n",
    "del df['D']"
   ]
  },
  {
   "cell_type": "code",
   "execution_count": 4,
   "metadata": {
    "collapsed": false
   },
   "outputs": [
    {
     "data": {
      "text/html": [
       "<div>\n",
       "<table border=\"1\" class=\"dataframe\">\n",
       "  <thead>\n",
       "    <tr style=\"text-align: right;\">\n",
       "      <th></th>\n",
       "      <th>Año</th>\n",
       "      <th>Mes</th>\n",
       "      <th>Año-Mes</th>\n",
       "      <th>Manchas</th>\n",
       "      <th>B</th>\n",
       "      <th>C</th>\n",
       "    </tr>\n",
       "  </thead>\n",
       "  <tbody>\n",
       "    <tr>\n",
       "      <th>0</th>\n",
       "      <td>1749</td>\n",
       "      <td>1</td>\n",
       "      <td>1749.042</td>\n",
       "      <td>96.7</td>\n",
       "      <td>-1.0</td>\n",
       "      <td>-1</td>\n",
       "    </tr>\n",
       "    <tr>\n",
       "      <th>1</th>\n",
       "      <td>1749</td>\n",
       "      <td>2</td>\n",
       "      <td>1749.123</td>\n",
       "      <td>104.3</td>\n",
       "      <td>-1.0</td>\n",
       "      <td>-1</td>\n",
       "    </tr>\n",
       "    <tr>\n",
       "      <th>2</th>\n",
       "      <td>1749</td>\n",
       "      <td>3</td>\n",
       "      <td>1749.204</td>\n",
       "      <td>116.7</td>\n",
       "      <td>-1.0</td>\n",
       "      <td>-1</td>\n",
       "    </tr>\n",
       "    <tr>\n",
       "      <th>3</th>\n",
       "      <td>1749</td>\n",
       "      <td>4</td>\n",
       "      <td>1749.288</td>\n",
       "      <td>92.8</td>\n",
       "      <td>-1.0</td>\n",
       "      <td>-1</td>\n",
       "    </tr>\n",
       "    <tr>\n",
       "      <th>4</th>\n",
       "      <td>1749</td>\n",
       "      <td>5</td>\n",
       "      <td>1749.371</td>\n",
       "      <td>141.7</td>\n",
       "      <td>-1.0</td>\n",
       "      <td>-1</td>\n",
       "    </tr>\n",
       "  </tbody>\n",
       "</table>\n",
       "</div>"
      ],
      "text/plain": [
       "    Año  Mes   Año-Mes  Manchas    B  C\n",
       "0  1749    1  1749.042     96.7 -1.0 -1\n",
       "1  1749    2  1749.123    104.3 -1.0 -1\n",
       "2  1749    3  1749.204    116.7 -1.0 -1\n",
       "3  1749    4  1749.288     92.8 -1.0 -1\n",
       "4  1749    5  1749.371    141.7 -1.0 -1"
      ]
     },
     "execution_count": 4,
     "metadata": {},
     "output_type": "execute_result"
    }
   ],
   "source": [
    "df.head()"
   ]
  },
  {
   "cell_type": "code",
   "execution_count": 5,
   "metadata": {
    "collapsed": false
   },
   "outputs": [
    {
     "data": {
      "text/html": [
       "<div>\n",
       "<table border=\"1\" class=\"dataframe\">\n",
       "  <thead>\n",
       "    <tr style=\"text-align: right;\">\n",
       "      <th></th>\n",
       "      <th>Año</th>\n",
       "      <th>Mes</th>\n",
       "      <th>Año-Mes</th>\n",
       "      <th>Manchas</th>\n",
       "      <th>B</th>\n",
       "      <th>C</th>\n",
       "    </tr>\n",
       "  </thead>\n",
       "  <tbody>\n",
       "    <tr>\n",
       "      <th>count</th>\n",
       "      <td>3213.000000</td>\n",
       "      <td>3213.000000</td>\n",
       "      <td>3213.000000</td>\n",
       "      <td>3213.000000</td>\n",
       "      <td>3213.000000</td>\n",
       "      <td>3213.000000</td>\n",
       "    </tr>\n",
       "    <tr>\n",
       "      <th>mean</th>\n",
       "      <td>1882.375350</td>\n",
       "      <td>6.495798</td>\n",
       "      <td>1882.873012</td>\n",
       "      <td>82.923561</td>\n",
       "      <td>5.610955</td>\n",
       "      <td>89.781201</td>\n",
       "    </tr>\n",
       "    <tr>\n",
       "      <th>std</th>\n",
       "      <td>77.304865</td>\n",
       "      <td>3.451370</td>\n",
       "      <td>77.304802</td>\n",
       "      <td>67.819418</td>\n",
       "      <td>5.234367</td>\n",
       "      <td>185.247160</td>\n",
       "    </tr>\n",
       "    <tr>\n",
       "      <th>min</th>\n",
       "      <td>1749.000000</td>\n",
       "      <td>1.000000</td>\n",
       "      <td>1749.042000</td>\n",
       "      <td>0.000000</td>\n",
       "      <td>-1.000000</td>\n",
       "      <td>-1.000000</td>\n",
       "    </tr>\n",
       "    <tr>\n",
       "      <th>25%</th>\n",
       "      <td>1815.000000</td>\n",
       "      <td>3.000000</td>\n",
       "      <td>1815.958000</td>\n",
       "      <td>25.300000</td>\n",
       "      <td>-1.000000</td>\n",
       "      <td>-1.000000</td>\n",
       "    </tr>\n",
       "    <tr>\n",
       "      <th>50%</th>\n",
       "      <td>1882.000000</td>\n",
       "      <td>6.000000</td>\n",
       "      <td>1882.874000</td>\n",
       "      <td>69.700000</td>\n",
       "      <td>5.400000</td>\n",
       "      <td>30.000000</td>\n",
       "    </tr>\n",
       "    <tr>\n",
       "      <th>75%</th>\n",
       "      <td>1949.000000</td>\n",
       "      <td>9.000000</td>\n",
       "      <td>1949.790000</td>\n",
       "      <td>123.300000</td>\n",
       "      <td>9.400000</td>\n",
       "      <td>31.000000</td>\n",
       "    </tr>\n",
       "    <tr>\n",
       "      <th>max</th>\n",
       "      <td>2016.000000</td>\n",
       "      <td>12.000000</td>\n",
       "      <td>2016.708000</td>\n",
       "      <td>398.200000</td>\n",
       "      <td>23.500000</td>\n",
       "      <td>977.000000</td>\n",
       "    </tr>\n",
       "  </tbody>\n",
       "</table>\n",
       "</div>"
      ],
      "text/plain": [
       "               Año          Mes      Año-Mes      Manchas            B  \\\n",
       "count  3213.000000  3213.000000  3213.000000  3213.000000  3213.000000   \n",
       "mean   1882.375350     6.495798  1882.873012    82.923561     5.610955   \n",
       "std      77.304865     3.451370    77.304802    67.819418     5.234367   \n",
       "min    1749.000000     1.000000  1749.042000     0.000000    -1.000000   \n",
       "25%    1815.000000     3.000000  1815.958000    25.300000    -1.000000   \n",
       "50%    1882.000000     6.000000  1882.874000    69.700000     5.400000   \n",
       "75%    1949.000000     9.000000  1949.790000   123.300000     9.400000   \n",
       "max    2016.000000    12.000000  2016.708000   398.200000    23.500000   \n",
       "\n",
       "                 C  \n",
       "count  3213.000000  \n",
       "mean     89.781201  \n",
       "std     185.247160  \n",
       "min      -1.000000  \n",
       "25%      -1.000000  \n",
       "50%      30.000000  \n",
       "75%      31.000000  \n",
       "max     977.000000  "
      ]
     },
     "execution_count": 5,
     "metadata": {},
     "output_type": "execute_result"
    }
   ],
   "source": [
    "df.describe()"
   ]
  },
  {
   "cell_type": "code",
   "execution_count": 6,
   "metadata": {
    "collapsed": false
   },
   "outputs": [
    {
     "data": {
      "text/plain": [
       "Año        0\n",
       "Mes        0\n",
       "Año-Mes    0\n",
       "Manchas    0\n",
       "B          0\n",
       "C          0\n",
       "dtype: int64"
      ]
     },
     "execution_count": 6,
     "metadata": {},
     "output_type": "execute_result"
    }
   ],
   "source": [
    "df.apply(lambda x: sum(x.isnull()), axis=0)"
   ]
  },
  {
   "cell_type": "code",
   "execution_count": 40,
   "metadata": {
    "collapsed": false
   },
   "outputs": [
    {
     "data": {
      "image/png": "[encoded data removed]",
      "text/plain": [
       "<matplotlib.figure.Figure at 0x7ff24adf6400>"
      ]
     },
     "metadata": {},
     "output_type": "display_data"
    }
   ],
   "source": [
    "from scipy.fftpack import fft, fftfreq, fftshift\n",
    "# number of signal points\n",
    "N = 3213\n",
    "# sample spacing\n",
    "T = 1\n",
    "x = df['Año']\n",
    "y = df['Manchas']\n",
    "yf = fft(y)\n",
    "xf = fftfreq(N, T)\n",
    "xf = fftshift(xf)\n",
    "yplot = fftshift(yf)\n",
    "import matplotlib.pyplot as plt\n",
    "plt.plot(xf, 2.0/N * np.abs(yplot))\n",
    "plt.xlim(-0.03,0.03 )\n",
    "fig=plt.gcf()\n",
    "fig.set_size_inches(7,7)\n",
    "\n",
    "plt.xlabel(\"Fecha\")\n",
    "plt.ylabel(\"Manchas\")\n",
    "\n",
    "plt.grid()\n",
    "plt.show()"
   ]
  },
  {
   "cell_type": "code",
   "execution_count": 27,
   "metadata": {
    "collapsed": false
   },
   "outputs": [],
   "source": [
    "a = 2*np.absolute(yf)/N"
   ]
  },
  {
   "cell_type": "code",
   "execution_count": 28,
   "metadata": {
    "collapsed": false
   },
   "outputs": [
    {
     "name": "stdout",
     "output_type": "stream",
     "text": [
      "(array([   0,    1,    2,    3,    4,    5,   18,   19,   22,   23,   24,\n",
      "         25,   26,   27,   28,   29,   30,   32,   33,   49, 3164, 3180,\n",
      "       3181, 3183, 3184, 3185, 3186, 3187, 3188, 3189, 3190, 3191, 3194,\n",
      "       3195, 3208, 3209, 3210, 3211, 3212]),)\n"
     ]
    },
    {
     "data": {
      "text/plain": [
       "array([ 165.84712107,   12.2404616 ,   11.62644929,   22.79918361,\n",
       "         15.28281214,   13.73590511,   10.24940903,   13.06489499,\n",
       "         12.50737479,   22.67815211,   39.98723321,   35.419832  ,\n",
       "         13.56290861,   30.90803788,   10.73240059,   14.12154193,\n",
       "         12.90840658,   10.55344184,   14.6282459 ,   10.17270309,\n",
       "         10.17270309,   14.6282459 ,   10.55344184,   12.90840658,\n",
       "         14.12154193,   10.73240059,   30.90803788,   13.56290861,\n",
       "         35.419832  ,   39.98723321,   22.67815211,   12.50737479,\n",
       "         13.06489499,   10.24940903,   13.73590511,   15.28281214,\n",
       "         22.79918361,   11.62644929,   12.2404616 ])"
      ]
     },
     "execution_count": 28,
     "metadata": {},
     "output_type": "execute_result"
    }
   ],
   "source": [
    "#PICOS\n",
    "print(np.where(a[:,]>10))\n",
    "b= a[a[:,]>10]\n",
    "b\n"
   ]
  },
  {
   "cell_type": "code",
   "execution_count": 33,
   "metadata": {
    "collapsed": false
   },
   "outputs": [],
   "source": [
    "#AMPLITUD\n",
    "A1=2.0*np.absolute(yf[int(23),]/N)\n",
    "A2=2.0*np.absolute(yf[int(24),]/N)\n",
    "A3=2.0*np.absolute(yf[int(25),]/N)\n",
    "#FRECUENCIA\n",
    "f1= xf[int(N/2 +23),]\n",
    "f2= xf[int(N/2 +24),]\n",
    "f3= xf[int(N/2 +25),]\n",
    "#PERIODO\n",
    "T1=1/f1\n",
    "T2=1/f2\n",
    "T3=1/f3"
   ]
  },
  {
   "cell_type": "code",
   "execution_count": 42,
   "metadata": {
    "collapsed": false
   },
   "outputs": [
    {
     "name": "stdout",
     "output_type": "stream",
     "text": [
      "Modo 1\n",
      "Número de manchas= 22.6781521056\n",
      "Frecuencia= 0.00715841892312\n",
      "Periodo= 11.6413043478\n",
      "Modo 2\n",
      "Número de manchas= 39.9872332086\n",
      "Frecuencia= 0.00746965452848\n",
      "Periodo= 11.15625\n",
      "Modo 3\n",
      "Número de manchas= 35.4198320032\n",
      "Frecuencia= 0.00778089013383\n",
      "Periodo= 10.71\n"
     ]
    }
   ],
   "source": [
    "print('Modo 1')\n",
    "print('Número de manchas=',A1)\n",
    "print('Frecuencia=',f1)\n",
    "print('Periodo=',T1/12)\n",
    "\n",
    "print('Modo 2')\n",
    "print('Número de manchas=',A2)\n",
    "print('Frecuencia=',f2)\n",
    "print('Periodo=',T2/12)\n",
    "\n",
    "print('Modo 3')\n",
    "print('Número de manchas=',A3)\n",
    "print('Frecuencia=',f3)\n",
    "print('Periodo=',T3/12)"
   ]
  },
  {
   "cell_type": "code",
   "execution_count": 41,
   "metadata": {
    "collapsed": false
   },
   "outputs": [
    {
     "data": {
      "image/png": "[encoded data removed]",
      "text/plain": [
       "<matplotlib.figure.Figure at 0x7ff24ad9b1d0>"
      ]
     },
     "metadata": {},
     "output_type": "display_data"
    }
   ],
   "source": [
    "# number of signal points\n",
    "N = 3213\n",
    "# sample spacing\n",
    "T = 1.0\n",
    "x = df['Año']\n",
    "y = df['Manchas']\n",
    "yf = fft(y)\n",
    "xf = fftfreq(N, T)\n",
    "xf = fftshift(xf)\n",
    "yplot = fftshift(yf)\n",
    "import matplotlib.pyplot as plt\n",
    "plt.plot(xf, 2.0/N * np.abs(yplot))\n",
    "plt.xlim(0,0.03 )\n",
    "fig=plt.gcf()\n",
    "fig.set_size_inches(7,7)\n",
    "\n",
    "plt.text(0.007,40,'1')\n",
    "plt.text(0.008,36,'2')\n",
    "plt.text(0.0083,30,'3')\n",
    "\n",
    "plt.xlabel(\"Fecha\")\n",
    "plt.ylabel(\"Manchas\")\n",
    "\n",
    "plt.grid()\n",
    "\n",
    "plt.show()"
   ]
  },
  {
   "cell_type": "code",
   "execution_count": null,
   "metadata": {
    "collapsed": true
   },
   "outputs": [],
   "source": []
  }
 ],
 "metadata": {
  "anaconda-cloud": {},
  "kernelspec": {
   "display_name": "Python [conda root]",
   "language": "python",
   "name": "conda-root-py"
  },
  "language_info": {
   "codemirror_mode": {
    "name": "ipython",
    "version": 3
   },
   "file_extension": ".py",
   "mimetype": "text/x-python",
   "name": "python",
   "nbconvert_exporter": "python",
   "pygments_lexer": "ipython3",
   "version": "3.5.2"
  }
 },
 "nbformat": 4,
 "nbformat_minor": 1
}
